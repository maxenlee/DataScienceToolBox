{
  "metadata": {
    "accelerator": "GPU",
    "colab": {
      "gpuType": "T4",
      "provenance": [],
      "include_colab_link": true
    },
    "kernelspec": {
      "name": "python3",
      "display_name": "Python 3",
      "language": "python"
    },
    "language_info": {
      "name": "python",
      "version": "3.10.13",
      "mimetype": "text/x-python",
      "codemirror_mode": {
        "name": "ipython",
        "version": 3
      },
      "pygments_lexer": "ipython3",
      "nbconvert_exporter": "python",
      "file_extension": ".py"
    },
    "kaggle": {
      "accelerator": "nvidiaTeslaT4",
      "dataSources": [],
      "dockerImageVersionId": 30674,
      "isInternetEnabled": true,
      "language": "python",
      "sourceType": "notebook",
      "isGpuEnabled": true
    }
  },
  "nbformat_minor": 0,
  "nbformat": 4,
  "cells": [
    {
      "cell_type": "markdown",
      "metadata": {
        "id": "view-in-github",
        "colab_type": "text"
      },
      "source": [
        "<a href=\"https://colab.research.google.com/github/maxenlee/DataScienceToolBox/blob/main/Maxen%7CProject6.ipynb\" target=\"_parent\"><img src=\"https://colab.research.google.com/assets/colab-badge.svg\" alt=\"Open In Colab\"/></a>"
      ]
    },
    {
      "cell_type": "markdown",
      "source": [
        "# Images – To Do List\n"
      ],
      "metadata": {
        "id": "Z7IxnO3ZGqlL"
      }
    },
    {
      "cell_type": "markdown",
      "source": [
        "\n",
        "Prior to starting this problem, be sure to enable the GPU runtime processing in your Jupyter notebook.\n",
        "\n"
      ],
      "metadata": {
        "id": "09CQVfHpXRMB"
      }
    },
    {
      "cell_type": "markdown",
      "source": [
        "## Problem Definition\n"
      ],
      "metadata": {
        "id": "f5PuSqe-H8u5"
      }
    },
    {
      "cell_type": "markdown",
      "source": [],
      "metadata": {
        "id": "LTkDf0rRZeyb"
      }
    },
    {
      "cell_type": "markdown",
      "source": [
        "\n",
        "* Write a concise problem definition for the project. Put it in a text field at the top of your Jupyter notebook.\n",
        "\n",
        "* Load necessary packages.\n",
        "\n"
      ],
      "metadata": {
        "id": "nCOQv4YvXPBE"
      }
    },
    {
      "cell_type": "code",
      "source": [],
      "metadata": {
        "id": "o0YFGFfOsQBm"
      },
      "execution_count": null,
      "outputs": []
    },
    {
      "cell_type": "code",
      "source": [
        "\n",
        "import pickle\n",
        "import numpy as np\n",
        "import pandas as pd\n",
        "import matplotlib.pyplot as plt\n",
        "import seaborn as sns\n",
        "import requests\n",
        "from sklearn.preprocessing import minmax_scale\n",
        "\n",
        "import tensorflow as tf\n",
        "import tensorflow.keras as keras\n",
        "from keras.models import Sequential\n",
        "from keras.layers import Dense, Flatten, Conv2D, MaxPooling2D\n",
        "from keras.utils import plot_model\n",
        "\n",
        "import requests\n",
        "from tensorflow.keras.preprocessing.image import img_to_array, load_img\n",
        "from tensorflow.keras.applications.vgg16 import preprocess_input\n",
        "from PIL import Image\n",
        "import numpy as np\n",
        "from io import BytesIO\n",
        "\n"
      ],
      "metadata": {
        "id": "l1AbH5CUnj8d",
        "execution": {
          "iopub.status.busy": "2024-03-23T16:35:07.234112Z",
          "iopub.execute_input": "2024-03-23T16:35:07.234745Z",
          "iopub.status.idle": "2024-03-23T16:35:07.241573Z",
          "shell.execute_reply.started": "2024-03-23T16:35:07.234712Z",
          "shell.execute_reply": "2024-03-23T16:35:07.240505Z"
        },
        "trusted": true
      },
      "execution_count": null,
      "outputs": []
    },
    {
      "cell_type": "markdown",
      "source": [],
      "metadata": {
        "id": "5wSIoY4UpDiU"
      }
    },
    {
      "cell_type": "code",
      "source": [
        "link_1 = 'https://ddc-datascience.s3.amazonaws.com/Projects/Project.6-Images/Data/X.pickle'\n",
        "link_2 = 'https://ddc-datascience.s3.amazonaws.com/Projects/Project.6-Images/Data/y.pickle'\n",
        "link_3 = 'https://ddc-datascience.s3.amazonaws.com/Projects/Project.6-Images/Data/dog.jpg'"
      ],
      "metadata": {
        "id": "ZTGmmJGuJOMW",
        "execution": {
          "iopub.status.busy": "2024-03-23T16:35:07.276667Z",
          "iopub.execute_input": "2024-03-23T16:35:07.277235Z",
          "iopub.status.idle": "2024-03-23T16:35:07.282021Z",
          "shell.execute_reply.started": "2024-03-23T16:35:07.277203Z",
          "shell.execute_reply": "2024-03-23T16:35:07.280775Z"
        },
        "trusted": true
      },
      "execution_count": null,
      "outputs": []
    },
    {
      "cell_type": "markdown",
      "source": [
        "## Data Collection\n"
      ],
      "metadata": {
        "id": "Ll3rUMEKH_b9"
      }
    },
    {
      "cell_type": "markdown",
      "source": [
        "\n",
        "* Load pickled data from X.pickle and y.pickle from the AWS S3 bucket.\n",
        "\n"
      ],
      "metadata": {
        "id": "DaGpv4TcXNpo"
      }
    },
    {
      "cell_type": "code",
      "source": [
        "X = pickle.loads(requests.get(link_1).content)\n",
        "y = np.array(pickle.loads(requests.get(link_2).content))\n",
        "\n"
      ],
      "metadata": {
        "id": "mAaRqBXMpJYx",
        "execution": {
          "iopub.status.busy": "2024-03-23T16:35:07.336296Z",
          "iopub.execute_input": "2024-03-23T16:35:07.33662Z",
          "iopub.status.idle": "2024-03-23T16:35:11.582129Z",
          "shell.execute_reply.started": "2024-03-23T16:35:07.336593Z",
          "shell.execute_reply": "2024-03-23T16:35:11.581134Z"
        },
        "trusted": true
      },
      "execution_count": null,
      "outputs": []
    },
    {
      "cell_type": "code",
      "source": [
        "y[:10]"
      ],
      "metadata": {
        "execution": {
          "iopub.status.busy": "2024-03-23T16:35:11.584124Z",
          "iopub.execute_input": "2024-03-23T16:35:11.584756Z",
          "iopub.status.idle": "2024-03-23T16:35:11.590752Z",
          "shell.execute_reply.started": "2024-03-23T16:35:11.584719Z",
          "shell.execute_reply": "2024-03-23T16:35:11.589829Z"
        },
        "trusted": true,
        "id": "oby-XJ4asQBq",
        "outputId": "8d5a8ea1-46ec-4cbc-fe2a-6120737928ab"
      },
      "execution_count": null,
      "outputs": [
        {
          "execution_count": 225,
          "output_type": "execute_result",
          "data": {
            "text/plain": "array([0, 1, 1, 0, 0, 0, 0, 0, 0, 0])"
          },
          "metadata": {}
        }
      ]
    },
    {
      "cell_type": "code",
      "source": [
        "y"
      ],
      "metadata": {
        "execution": {
          "iopub.status.busy": "2024-03-23T16:35:11.592019Z",
          "iopub.execute_input": "2024-03-23T16:35:11.592366Z",
          "iopub.status.idle": "2024-03-23T16:35:11.602439Z",
          "shell.execute_reply.started": "2024-03-23T16:35:11.592331Z",
          "shell.execute_reply": "2024-03-23T16:35:11.601464Z"
        },
        "trusted": true,
        "id": "t-IYyXe5sQBr",
        "outputId": "232bbb72-963d-4c23-d0e3-2f117e948bc8"
      },
      "execution_count": null,
      "outputs": [
        {
          "execution_count": 226,
          "output_type": "execute_result",
          "data": {
            "text/plain": "array([0, 1, 1, ..., 1, 0, 1])"
          },
          "metadata": {}
        }
      ]
    },
    {
      "cell_type": "code",
      "source": [
        "\n",
        "# Step 1: Fetch the image from the URL\n",
        "response = requests.get(link_3)\n",
        "\n",
        "# Step 2: Open the image with PIL\n",
        "img = Image.open(BytesIO(response.content))\n",
        "\n",
        "# Assuming you need to resize the image to 224x224 as before\n",
        "img = img.resize((100, 100))\n",
        "\n",
        "# Convert the image to a NumPy array\n",
        "img_array = img_to_array(img)\n",
        "\n",
        "# Normalize the pixel values (adjust this according to your model's needs)\n",
        "img_array = preprocess_input(img_array)\n",
        "\n",
        "# Expand dimensions to match the model's expected input shape\n",
        "test = np.expand_dims(img_array, axis=0)\n",
        "\n",
        "# Now 'img_array' is ready to be used as input to your model.\n"
      ],
      "metadata": {
        "id": "U6O7E84bDqcS",
        "execution": {
          "iopub.status.busy": "2024-03-23T16:35:11.605325Z",
          "iopub.execute_input": "2024-03-23T16:35:11.606019Z",
          "iopub.status.idle": "2024-03-23T16:35:11.905761Z",
          "shell.execute_reply.started": "2024-03-23T16:35:11.60593Z",
          "shell.execute_reply": "2024-03-23T16:35:11.905021Z"
        },
        "trusted": true
      },
      "execution_count": null,
      "outputs": []
    },
    {
      "cell_type": "code",
      "source": [
        "# test"
      ],
      "metadata": {
        "id": "hbOsv7LAEmY7",
        "execution": {
          "iopub.status.busy": "2024-03-23T16:35:11.906913Z",
          "iopub.execute_input": "2024-03-23T16:35:11.907246Z",
          "iopub.status.idle": "2024-03-23T16:35:11.911484Z",
          "shell.execute_reply.started": "2024-03-23T16:35:11.907214Z",
          "shell.execute_reply": "2024-03-23T16:35:11.910603Z"
        },
        "trusted": true
      },
      "execution_count": null,
      "outputs": []
    },
    {
      "cell_type": "code",
      "source": [],
      "metadata": {
        "id": "tqXgPKAXD2hi"
      },
      "execution_count": null,
      "outputs": []
    },
    {
      "cell_type": "code",
      "source": [
        "test.shape"
      ],
      "metadata": {
        "colab": {
          "base_uri": "https://localhost:8080/"
        },
        "id": "7gIG8Sr2CBwu",
        "outputId": "2f6f5c00-8892-40ac-8b48-d5dd8e467458",
        "execution": {
          "iopub.status.busy": "2024-03-23T16:35:11.912431Z",
          "iopub.execute_input": "2024-03-23T16:35:11.912672Z",
          "iopub.status.idle": "2024-03-23T16:35:11.924935Z",
          "shell.execute_reply.started": "2024-03-23T16:35:11.91265Z",
          "shell.execute_reply": "2024-03-23T16:35:11.924159Z"
        },
        "trusted": true
      },
      "execution_count": null,
      "outputs": [
        {
          "execution_count": 229,
          "output_type": "execute_result",
          "data": {
            "text/plain": "(1, 100, 100, 3)"
          },
          "metadata": {}
        }
      ]
    },
    {
      "cell_type": "code",
      "source": [
        "y.shape"
      ],
      "metadata": {
        "colab": {
          "base_uri": "https://localhost:8080/"
        },
        "id": "_O4EOhXi6gm3",
        "outputId": "42169436-a9f9-4642-bc88-d8b6ee125761",
        "execution": {
          "iopub.status.busy": "2024-03-23T16:35:11.926135Z",
          "iopub.execute_input": "2024-03-23T16:35:11.926538Z",
          "iopub.status.idle": "2024-03-23T16:35:11.93373Z",
          "shell.execute_reply.started": "2024-03-23T16:35:11.926506Z",
          "shell.execute_reply": "2024-03-23T16:35:11.932954Z"
        },
        "trusted": true
      },
      "execution_count": null,
      "outputs": [
        {
          "execution_count": 230,
          "output_type": "execute_result",
          "data": {
            "text/plain": "(24946,)"
          },
          "metadata": {}
        }
      ]
    },
    {
      "cell_type": "markdown",
      "source": [
        "## Data Cleaning\n"
      ],
      "metadata": {
        "id": "Qv-tmJlyIBrL"
      }
    },
    {
      "cell_type": "markdown",
      "source": [
        "\n",
        "* Scale the values in X so that they fall between 0 and 1 by dividing by 255.\n",
        "\n"
      ],
      "metadata": {
        "id": "DrJ-2JwDXMYk"
      }
    },
    {
      "cell_type": "code",
      "source": [
        "print(X.shape,'\\n',\n",
        "      X[0].shape,'\\n',\n",
        "      X[0][0].shape,'\\n',\n",
        "      X[0][0][0].shape,'\\n',\n",
        "      X[0][0][0][0].shape)\n"
      ],
      "metadata": {
        "colab": {
          "base_uri": "https://localhost:8080/"
        },
        "id": "EzDPOBMLJPnI",
        "outputId": "f6a7f73e-061a-43a8-e8ef-d52b60ff9083",
        "execution": {
          "iopub.status.busy": "2024-03-23T16:35:11.934774Z",
          "iopub.execute_input": "2024-03-23T16:35:11.935084Z",
          "iopub.status.idle": "2024-03-23T16:35:11.943474Z",
          "shell.execute_reply.started": "2024-03-23T16:35:11.935059Z",
          "shell.execute_reply": "2024-03-23T16:35:11.942579Z"
        },
        "trusted": true
      },
      "execution_count": null,
      "outputs": [
        {
          "name": "stdout",
          "text": "(24946, 100, 100, 1) \n (100, 100, 1) \n (100, 1) \n (1,) \n ()\n",
          "output_type": "stream"
        }
      ]
    },
    {
      "cell_type": "code",
      "source": [
        "X[0][0][0][0]"
      ],
      "metadata": {
        "colab": {
          "base_uri": "https://localhost:8080/"
        },
        "id": "Y0XljOZcx6Rb",
        "outputId": "5e5a59c1-a90c-4360-8896-1ebbc45f3e60",
        "execution": {
          "iopub.status.busy": "2024-03-23T16:35:11.944533Z",
          "iopub.execute_input": "2024-03-23T16:35:11.944776Z",
          "iopub.status.idle": "2024-03-23T16:35:11.955695Z",
          "shell.execute_reply.started": "2024-03-23T16:35:11.944755Z",
          "shell.execute_reply": "2024-03-23T16:35:11.954839Z"
        },
        "trusted": true
      },
      "execution_count": null,
      "outputs": [
        {
          "execution_count": 232,
          "output_type": "execute_result",
          "data": {
            "text/plain": "95"
          },
          "metadata": {}
        }
      ]
    },
    {
      "cell_type": "markdown",
      "source": [],
      "metadata": {
        "id": "T5CYCPwdgbW0"
      }
    },
    {
      "cell_type": "code",
      "source": [
        "data_size = X.shape[0]\n",
        "data_size"
      ],
      "metadata": {
        "colab": {
          "base_uri": "https://localhost:8080/"
        },
        "id": "3FJJvOHVrl5e",
        "outputId": "ab276a08-2b25-41aa-b3d0-0b39b9393bd2",
        "execution": {
          "iopub.status.busy": "2024-03-23T16:35:11.95923Z",
          "iopub.execute_input": "2024-03-23T16:35:11.95949Z",
          "iopub.status.idle": "2024-03-23T16:35:11.966052Z",
          "shell.execute_reply.started": "2024-03-23T16:35:11.959467Z",
          "shell.execute_reply": "2024-03-23T16:35:11.965242Z"
        },
        "trusted": true
      },
      "execution_count": null,
      "outputs": [
        {
          "execution_count": 233,
          "output_type": "execute_result",
          "data": {
            "text/plain": "24946"
          },
          "metadata": {}
        }
      ]
    },
    {
      "cell_type": "code",
      "source": [
        "f'{X.size:_}'"
      ],
      "metadata": {
        "colab": {
          "base_uri": "https://localhost:8080/"
        },
        "id": "njuoju85yNdh",
        "outputId": "add3142c-d153-404a-cfa2-559140afe6a5",
        "execution": {
          "iopub.status.busy": "2024-03-23T16:35:11.966978Z",
          "iopub.execute_input": "2024-03-23T16:35:11.967234Z",
          "iopub.status.idle": "2024-03-23T16:35:11.975809Z",
          "shell.execute_reply.started": "2024-03-23T16:35:11.967214Z",
          "shell.execute_reply": "2024-03-23T16:35:11.974926Z"
        },
        "trusted": true
      },
      "execution_count": null,
      "outputs": [
        {
          "execution_count": 234,
          "output_type": "execute_result",
          "data": {
            "text/plain": "'249_460_000'"
          },
          "metadata": {}
        }
      ]
    },
    {
      "cell_type": "code",
      "source": [
        "plt.imshow(X[1600]\n",
        "           , cmap = plt.cm.gray_r)"
      ],
      "metadata": {
        "colab": {
          "base_uri": "https://localhost:8080/",
          "height": 450
        },
        "id": "Mfn-TRa5ycWP",
        "outputId": "e7be4be4-a66b-4953-d2e6-99e8710c5dc4",
        "execution": {
          "iopub.status.busy": "2024-03-23T16:35:11.977041Z",
          "iopub.execute_input": "2024-03-23T16:35:11.977384Z",
          "iopub.status.idle": "2024-03-23T16:35:12.16115Z",
          "shell.execute_reply.started": "2024-03-23T16:35:11.977335Z",
          "shell.execute_reply": "2024-03-23T16:35:12.160198Z"
        },
        "trusted": true
      },
      "execution_count": null,
      "outputs": [
        {
          "execution_count": 235,
          "output_type": "execute_result",
          "data": {
            "text/plain": "<matplotlib.image.AxesImage at 0x786f0add0c10>"
          },
          "metadata": {}
        },
        {
          "output_type": "display_data",
          "data": {
            "text/plain": "<Figure size 640x480 with 1 Axes>",
            "image/png": "[encoded data removed]"
          },
          "metadata": {}
        }
      ]
    },
    {
      "cell_type": "code",
      "source": [
        "print(X.min())\n",
        "print(X.max())"
      ],
      "metadata": {
        "colab": {
          "base_uri": "https://localhost:8080/"
        },
        "id": "4N7OifXMgQA4",
        "outputId": "f9008337-09c7-4efd-ceba-11039750f9d8",
        "execution": {
          "iopub.status.busy": "2024-03-23T16:35:12.162288Z",
          "iopub.execute_input": "2024-03-23T16:35:12.162533Z",
          "iopub.status.idle": "2024-03-23T16:35:12.214051Z",
          "shell.execute_reply.started": "2024-03-23T16:35:12.162512Z",
          "shell.execute_reply": "2024-03-23T16:35:12.213093Z"
        },
        "trusted": true
      },
      "execution_count": null,
      "outputs": [
        {
          "name": "stdout",
          "text": "0\n255\n",
          "output_type": "stream"
        }
      ]
    },
    {
      "cell_type": "code",
      "source": [
        "# X = X / 255\n",
        "X.shape"
      ],
      "metadata": {
        "colab": {
          "base_uri": "https://localhost:8080/"
        },
        "id": "vejT7m5ZnmUm",
        "outputId": "96f9d2e8-dfbe-434c-e94e-00a5b8034b88",
        "execution": {
          "iopub.status.busy": "2024-03-23T16:35:12.215407Z",
          "iopub.execute_input": "2024-03-23T16:35:12.215772Z",
          "iopub.status.idle": "2024-03-23T16:35:12.222244Z",
          "shell.execute_reply.started": "2024-03-23T16:35:12.215737Z",
          "shell.execute_reply": "2024-03-23T16:35:12.221211Z"
        },
        "trusted": true
      },
      "execution_count": null,
      "outputs": [
        {
          "execution_count": 237,
          "output_type": "execute_result",
          "data": {
            "text/plain": "(24946, 100, 100, 1)"
          },
          "metadata": {}
        }
      ]
    },
    {
      "cell_type": "code",
      "source": [
        "# Step 1: Flatten each image to a 1D array\n",
        "X_flattened = X.flatten()\n",
        "X_flattened.shape"
      ],
      "metadata": {
        "colab": {
          "base_uri": "https://localhost:8080/"
        },
        "id": "LlQJ5I6vz5Qi",
        "outputId": "44948c12-c0c1-4802-fe1d-bf48e68f4bdf",
        "execution": {
          "iopub.status.busy": "2024-03-23T16:35:12.223472Z",
          "iopub.execute_input": "2024-03-23T16:35:12.223735Z",
          "iopub.status.idle": "2024-03-23T16:35:12.33123Z",
          "shell.execute_reply.started": "2024-03-23T16:35:12.223709Z",
          "shell.execute_reply": "2024-03-23T16:35:12.33034Z"
        },
        "trusted": true
      },
      "execution_count": null,
      "outputs": [
        {
          "execution_count": 238,
          "output_type": "execute_result",
          "data": {
            "text/plain": "(249460000,)"
          },
          "metadata": {}
        }
      ]
    },
    {
      "cell_type": "code",
      "source": [
        "# Step 2: Apply minmax_scale across each image (row)\n",
        "X_scaled = minmax_scale(X_flattened)"
      ],
      "metadata": {
        "id": "2p122OpOz_Og",
        "execution": {
          "iopub.status.busy": "2024-03-23T16:35:12.332431Z",
          "iopub.execute_input": "2024-03-23T16:35:12.332694Z",
          "iopub.status.idle": "2024-03-23T16:35:14.711376Z",
          "shell.execute_reply.started": "2024-03-23T16:35:12.332669Z",
          "shell.execute_reply": "2024-03-23T16:35:14.710586Z"
        },
        "trusted": true
      },
      "execution_count": null,
      "outputs": []
    },
    {
      "cell_type": "code",
      "source": [
        "X_scaled.shape"
      ],
      "metadata": {
        "colab": {
          "base_uri": "https://localhost:8080/"
        },
        "id": "TAXsww5p0MFj",
        "outputId": "6f2f609a-35da-4738-b974-c338415c03af",
        "execution": {
          "iopub.status.busy": "2024-03-23T16:35:14.712499Z",
          "iopub.execute_input": "2024-03-23T16:35:14.712806Z",
          "iopub.status.idle": "2024-03-23T16:35:14.718923Z",
          "shell.execute_reply.started": "2024-03-23T16:35:14.71278Z",
          "shell.execute_reply": "2024-03-23T16:35:14.717958Z"
        },
        "trusted": true
      },
      "execution_count": null,
      "outputs": [
        {
          "execution_count": 240,
          "output_type": "execute_result",
          "data": {
            "text/plain": "(249460000,)"
          },
          "metadata": {}
        }
      ]
    },
    {
      "cell_type": "code",
      "source": [
        "# print(max(X_scaled))"
      ],
      "metadata": {
        "id": "SA-blVrZ0Qlc",
        "execution": {
          "iopub.status.busy": "2024-03-23T16:35:14.720364Z",
          "iopub.execute_input": "2024-03-23T16:35:14.721405Z",
          "iopub.status.idle": "2024-03-23T16:35:14.72871Z",
          "shell.execute_reply.started": "2024-03-23T16:35:14.721368Z",
          "shell.execute_reply": "2024-03-23T16:35:14.727871Z"
        },
        "trusted": true
      },
      "execution_count": null,
      "outputs": []
    },
    {
      "cell_type": "code",
      "source": [
        "np.max(X_scaled)"
      ],
      "metadata": {
        "colab": {
          "base_uri": "https://localhost:8080/"
        },
        "id": "jr3hbuKe0vCZ",
        "outputId": "baf1e22d-6a20-49f1-b8f9-9299dd1be4e4",
        "execution": {
          "iopub.status.busy": "2024-03-23T16:35:14.729823Z",
          "iopub.execute_input": "2024-03-23T16:35:14.730129Z",
          "iopub.status.idle": "2024-03-23T16:35:14.907232Z",
          "shell.execute_reply.started": "2024-03-23T16:35:14.730104Z",
          "shell.execute_reply": "2024-03-23T16:35:14.906229Z"
        },
        "trusted": true
      },
      "execution_count": null,
      "outputs": [
        {
          "execution_count": 242,
          "output_type": "execute_result",
          "data": {
            "text/plain": "1.0"
          },
          "metadata": {}
        }
      ]
    },
    {
      "cell_type": "code",
      "source": [
        "X_scaled.max()"
      ],
      "metadata": {
        "colab": {
          "base_uri": "https://localhost:8080/"
        },
        "id": "5bGWy8pU0mh2",
        "outputId": "bef9a314-25ed-437e-c019-f34f3bd59f09",
        "execution": {
          "iopub.status.busy": "2024-03-23T16:35:14.908408Z",
          "iopub.execute_input": "2024-03-23T16:35:14.90869Z",
          "iopub.status.idle": "2024-03-23T16:35:15.076579Z",
          "shell.execute_reply.started": "2024-03-23T16:35:14.908664Z",
          "shell.execute_reply": "2024-03-23T16:35:15.075658Z"
        },
        "trusted": true
      },
      "execution_count": null,
      "outputs": [
        {
          "execution_count": 243,
          "output_type": "execute_result",
          "data": {
            "text/plain": "1.0"
          },
          "metadata": {}
        }
      ]
    },
    {
      "cell_type": "code",
      "source": [
        "X_flattened.max()\n"
      ],
      "metadata": {
        "colab": {
          "base_uri": "https://localhost:8080/"
        },
        "id": "czKAwacr0c34",
        "outputId": "827bf495-06be-4b33-d141-bce96482a759",
        "execution": {
          "iopub.status.busy": "2024-03-23T16:35:15.077972Z",
          "iopub.execute_input": "2024-03-23T16:35:15.078603Z",
          "iopub.status.idle": "2024-03-23T16:35:15.108396Z",
          "shell.execute_reply.started": "2024-03-23T16:35:15.078565Z",
          "shell.execute_reply": "2024-03-23T16:35:15.107503Z"
        },
        "trusted": true
      },
      "execution_count": null,
      "outputs": [
        {
          "execution_count": 244,
          "output_type": "execute_result",
          "data": {
            "text/plain": "255"
          },
          "metadata": {}
        }
      ]
    },
    {
      "cell_type": "code",
      "source": [
        "\n",
        "# Step 3: Reshape back to original shape\n",
        "X_scaled_T4 = X_scaled.reshape(X.shape)\n",
        "\n",
        "# Now X_scaled should have the same shape as X, but with pixel values scaled to [0, 1]\n"
      ],
      "metadata": {
        "id": "kP82t3Oi0I5p",
        "execution": {
          "iopub.status.busy": "2024-03-23T16:35:15.109455Z",
          "iopub.execute_input": "2024-03-23T16:35:15.109736Z",
          "iopub.status.idle": "2024-03-23T16:35:15.114144Z",
          "shell.execute_reply.started": "2024-03-23T16:35:15.109711Z",
          "shell.execute_reply": "2024-03-23T16:35:15.113194Z"
        },
        "trusted": true
      },
      "execution_count": null,
      "outputs": []
    },
    {
      "cell_type": "code",
      "source": [
        "X_scaled_T4.shape"
      ],
      "metadata": {
        "colab": {
          "base_uri": "https://localhost:8080/"
        },
        "id": "Dq9R5nRj080Z",
        "outputId": "85be6c2c-70ff-44d6-cd06-0307e88d0543",
        "execution": {
          "iopub.status.busy": "2024-03-23T16:35:15.115488Z",
          "iopub.execute_input": "2024-03-23T16:35:15.115837Z",
          "iopub.status.idle": "2024-03-23T16:35:15.124978Z",
          "shell.execute_reply.started": "2024-03-23T16:35:15.115805Z",
          "shell.execute_reply": "2024-03-23T16:35:15.124101Z"
        },
        "trusted": true
      },
      "execution_count": null,
      "outputs": [
        {
          "execution_count": 246,
          "output_type": "execute_result",
          "data": {
            "text/plain": "(24946, 100, 100, 1)"
          },
          "metadata": {}
        }
      ]
    },
    {
      "cell_type": "markdown",
      "source": [
        "Checking for bias in target"
      ],
      "metadata": {
        "id": "wTpn4Sewq62a"
      }
    },
    {
      "cell_type": "code",
      "source": [
        "ysum = sum(y)\n",
        "ylen = len(y)\n",
        "print(ylen/ysum)"
      ],
      "metadata": {
        "colab": {
          "base_uri": "https://localhost:8080/"
        },
        "id": "oI3PXPbosOtr",
        "outputId": "7a7fe073-6fbd-472a-e8b9-68564c3322d4",
        "execution": {
          "iopub.status.busy": "2024-03-23T16:35:15.126036Z",
          "iopub.execute_input": "2024-03-23T16:35:15.126287Z",
          "iopub.status.idle": "2024-03-23T16:35:15.138968Z",
          "shell.execute_reply.started": "2024-03-23T16:35:15.126266Z",
          "shell.execute_reply": "2024-03-23T16:35:15.138095Z"
        },
        "trusted": true
      },
      "execution_count": null,
      "outputs": [
        {
          "name": "stdout",
          "text": "1.999519076627124\n",
          "output_type": "stream"
        }
      ]
    },
    {
      "cell_type": "markdown",
      "source": [
        "## Exploratory Data Analysis\n"
      ],
      "metadata": {
        "id": "UDccpNdgIEHR"
      }
    },
    {
      "cell_type": "markdown",
      "source": [
        "\n",
        "* Look at the shape of X and y. Ensure that X is 4 dimensional.\n",
        "\n",
        "* Plot one of the images in X using plt.imshow().\n",
        "\n",
        "* Look at the response value in y for that image.\n",
        "\n"
      ],
      "metadata": {
        "id": "VRCwjqGZXLG6"
      }
    },
    {
      "cell_type": "code",
      "source": [
        "ran = np.random.randint(data_size)\n",
        "plt.imshow(X[ran])"
      ],
      "metadata": {
        "colab": {
          "base_uri": "https://localhost:8080/",
          "height": 450
        },
        "id": "JP2pJKMBJQhk",
        "outputId": "1f6ae0a6-e9ac-40f8-ffc5-420b9c4ebc1c",
        "execution": {
          "iopub.status.busy": "2024-03-23T16:35:15.14013Z",
          "iopub.execute_input": "2024-03-23T16:35:15.141125Z",
          "iopub.status.idle": "2024-03-23T16:35:15.321283Z",
          "shell.execute_reply.started": "2024-03-23T16:35:15.141089Z",
          "shell.execute_reply": "2024-03-23T16:35:15.320381Z"
        },
        "trusted": true
      },
      "execution_count": null,
      "outputs": [
        {
          "execution_count": 248,
          "output_type": "execute_result",
          "data": {
            "text/plain": "<matplotlib.image.AxesImage at 0x786f0adc4760>"
          },
          "metadata": {}
        },
        {
          "output_type": "display_data",
          "data": {
            "text/plain": "<Figure size 640x480 with 1 Axes>",
            "image/png": "[encoded data removed]"
          },
          "metadata": {}
        }
      ]
    },
    {
      "cell_type": "markdown",
      "source": [
        "## Data Processing\n"
      ],
      "metadata": {
        "id": "1swvVYT3IGoH"
      }
    },
    {
      "cell_type": "code",
      "source": [
        "f = (X - X.min())/(X.max()-X.min())\n",
        "f.max()"
      ],
      "metadata": {
        "colab": {
          "base_uri": "https://localhost:8080/"
        },
        "id": "ghC5Luzx2vaW",
        "outputId": "1d9b8d07-823b-4959-90e3-342f436d2e74",
        "execution": {
          "iopub.status.busy": "2024-03-23T16:35:15.322583Z",
          "iopub.execute_input": "2024-03-23T16:35:15.322954Z",
          "iopub.status.idle": "2024-03-23T16:35:16.251354Z",
          "shell.execute_reply.started": "2024-03-23T16:35:15.322918Z",
          "shell.execute_reply": "2024-03-23T16:35:16.250372Z"
        },
        "trusted": true
      },
      "execution_count": null,
      "outputs": [
        {
          "execution_count": 249,
          "output_type": "execute_result",
          "data": {
            "text/plain": "1.0"
          },
          "metadata": {}
        }
      ]
    },
    {
      "cell_type": "markdown",
      "source": [
        "\n",
        "* Split X and y into training and testing sets.\n",
        "\n",
        "*  Build a neural network with the following:\n",
        "  * Sequential layers\n",
        "  * At least two 2D convolutional layers using the 'relu' activation function and a (3,3) kernel size.\n",
        "  * A MaxPooling2D layer after each 2D convolutional layer that has a pool size of (2,2).\n",
        "  * A dense output layer using the 'sigmoid' activation function.\n",
        "  Note: you can play around with the number of layers and nodes to try to get better performance.\n",
        "\n",
        "* Compile your model. Use the 'adam' optimizer. Determine which loss function and metric is most appropriate for this problem.\n",
        "\n",
        "* Fit your model using the training set.\n",
        "\n",
        "* Evaluate your model using the testing set.\n",
        "\n",
        "* Define a function that will read in a new image and convert it to a 4 dimensional array of pixels (ask the instructor for help with this). Hint: numpy.ndarray.reshape\n",
        "\n",
        "* Use the function defined above to read in the dog.jpg image that is saved in the AWS S3 bucket.\n",
        "\n",
        "* Use the neural network you created to predict whether the image is a dog or a cat.\n",
        "\n"
      ],
      "metadata": {
        "id": "-MRKZ22_XI90"
      }
    },
    {
      "cell_type": "markdown",
      "source": [
        "### Split Train"
      ],
      "metadata": {
        "id": "9iA9JvnJpxBx"
      }
    },
    {
      "cell_type": "code",
      "source": [
        "# rand = np.random.seed(42)\n",
        "split_size = data_size // 5\n",
        "split_size"
      ],
      "metadata": {
        "colab": {
          "base_uri": "https://localhost:8080/"
        },
        "id": "Fn3n18BOrfGD",
        "outputId": "7eb4e53b-8512-4358-f324-a15b797c4157",
        "execution": {
          "iopub.status.busy": "2024-03-23T16:35:16.252718Z",
          "iopub.execute_input": "2024-03-23T16:35:16.253101Z",
          "iopub.status.idle": "2024-03-23T16:35:16.259351Z",
          "shell.execute_reply.started": "2024-03-23T16:35:16.253071Z",
          "shell.execute_reply": "2024-03-23T16:35:16.258391Z"
        },
        "trusted": true
      },
      "execution_count": null,
      "outputs": [
        {
          "execution_count": 250,
          "output_type": "execute_result",
          "data": {
            "text/plain": "4989"
          },
          "metadata": {}
        }
      ]
    },
    {
      "cell_type": "code",
      "source": [
        "split_size/data_size"
      ],
      "metadata": {
        "colab": {
          "base_uri": "https://localhost:8080/"
        },
        "id": "n45lL2k_sdKn",
        "outputId": "2594dd90-0310-42f4-92da-8a4d33d7b263",
        "execution": {
          "iopub.status.busy": "2024-03-23T16:35:16.265955Z",
          "iopub.execute_input": "2024-03-23T16:35:16.266259Z",
          "iopub.status.idle": "2024-03-23T16:35:16.272695Z",
          "shell.execute_reply.started": "2024-03-23T16:35:16.266235Z",
          "shell.execute_reply": "2024-03-23T16:35:16.271795Z"
        },
        "trusted": true
      },
      "execution_count": null,
      "outputs": [
        {
          "execution_count": 251,
          "output_type": "execute_result",
          "data": {
            "text/plain": "0.1999919826825944"
          },
          "metadata": {}
        }
      ]
    },
    {
      "cell_type": "code",
      "source": [],
      "metadata": {
        "id": "9JELJLpM6YNz"
      },
      "execution_count": null,
      "outputs": []
    },
    {
      "cell_type": "code",
      "source": [
        "\n",
        "\n",
        "X_train= X_scaled_T4[split_size:]\n",
        "X_test= X_scaled_T4[:split_size]\n",
        "y_train= y[split_size:]\n",
        "y_test= y[:split_size]\n",
        "\n",
        "print(X_train.shape)\n",
        "print(X_test.shape)\n",
        "print(y_train.shape)\n",
        "print(y_test.shape)\n",
        "\n",
        "print(type(X_train))\n",
        "print(type(X_test))\n",
        "print(type(y_train))\n",
        "print(type(y_test))"
      ],
      "metadata": {
        "colab": {
          "base_uri": "https://localhost:8080/"
        },
        "id": "FU2fm8KtJRbW",
        "outputId": "6bb07a84-a083-4251-8db3-7f373af6eefa",
        "execution": {
          "iopub.status.busy": "2024-03-23T16:35:53.554047Z",
          "iopub.execute_input": "2024-03-23T16:35:53.554389Z",
          "iopub.status.idle": "2024-03-23T16:35:53.560922Z",
          "shell.execute_reply.started": "2024-03-23T16:35:53.554363Z",
          "shell.execute_reply": "2024-03-23T16:35:53.559945Z"
        },
        "trusted": true
      },
      "execution_count": null,
      "outputs": [
        {
          "name": "stdout",
          "text": "(19957, 100, 100, 1)\n(4989, 100, 100, 1)\n(19957,)\n(4989,)\n<class 'numpy.ndarray'>\n<class 'numpy.ndarray'>\n<class 'numpy.ndarray'>\n<class 'numpy.ndarray'>\n",
          "output_type": "stream"
        }
      ]
    },
    {
      "cell_type": "markdown",
      "source": [
        "### Building layers"
      ],
      "metadata": {
        "id": "T-t1CXbDtO1F"
      }
    },
    {
      "cell_type": "code",
      "source": [],
      "metadata": {
        "id": "DYS6GUAU6Gk5"
      },
      "execution_count": null,
      "outputs": []
    },
    {
      "cell_type": "code",
      "source": [
        "from keras.models import Sequential\n",
        "from keras.layers import Conv2D, MaxPooling2D, Flatten, Dense, Input\n",
        "\n",
        "# Create a Sequential model\n",
        "model = Sequential()\n",
        "\n",
        "# Specify the input shape\n",
        "model.add(Input(shape=X_train.shape[1:]))\n",
        "\n",
        "# Add the first convolutional layer\n",
        "model.add(Conv2D(filters=64,\n",
        "                 kernel_size=(3, 3),\n",
        "                 activation='relu'))\n",
        "\n",
        "# Add the first max pooling layer\n",
        "model.add(MaxPooling2D(pool_size=(2, 2)))\n",
        "\n",
        "# Add the second convolutional layer\n",
        "model.add(Conv2D(filters=64,\n",
        "                 kernel_size=(3, 3),\n",
        "                 activation='relu'))\n",
        "\n",
        "# Add the second max pooling layer\n",
        "model.add(MaxPooling2D(pool_size=(2, 2)))\n",
        "\n",
        "# Flatten the output of the convolutional layers\n",
        "model.add(Flatten())\n",
        "\n",
        "# Add the output layer with 'sigmoid' activation\n",
        "model.add(Dense(units=1, activation='sigmoid'))\n"
      ],
      "metadata": {
        "id": "xTeTjjvwtrzl",
        "execution": {
          "iopub.status.busy": "2024-03-23T16:40:50.397064Z",
          "iopub.execute_input": "2024-03-23T16:40:50.397744Z",
          "iopub.status.idle": "2024-03-23T16:40:50.45301Z",
          "shell.execute_reply.started": "2024-03-23T16:40:50.397695Z",
          "shell.execute_reply": "2024-03-23T16:40:50.452035Z"
        },
        "trusted": true
      },
      "execution_count": null,
      "outputs": []
    },
    {
      "cell_type": "code",
      "source": [
        "# Compile the model\n",
        "model.compile(optimizer='adam',\n",
        "              loss='binary_crossentropy',\n",
        "              metrics= ['accuracy'])\n",
        "\n",
        "# Print the model summary\n",
        "model.summary()\n"
      ],
      "metadata": {
        "colab": {
          "base_uri": "https://localhost:8080/",
          "height": 321
        },
        "id": "EG6RGRNev5vc",
        "outputId": "b48e361a-d458-4de7-8ed7-e57d2a531b10",
        "execution": {
          "iopub.status.busy": "2024-03-23T16:40:50.454782Z",
          "iopub.execute_input": "2024-03-23T16:40:50.455215Z",
          "iopub.status.idle": "2024-03-23T16:40:50.479191Z",
          "shell.execute_reply.started": "2024-03-23T16:40:50.455182Z",
          "shell.execute_reply": "2024-03-23T16:40:50.478325Z"
        },
        "trusted": true
      },
      "execution_count": null,
      "outputs": [
        {
          "output_type": "display_data",
          "data": {
            "text/plain": "\u001b[1mModel: \"sequential_5\"\u001b[0m\n",
            "text/html": "<pre style=\"white-space:pre;overflow-x:auto;line-height:normal;font-family:Menlo,'DejaVu Sans Mono',consolas,'Courier New',monospace\"><span style=\"font-weight: bold\">Model: \"sequential_5\"</span>\n</pre>\n"
          },
          "metadata": {}
        },
        {
          "output_type": "display_data",
          "data": {
            "text/plain": "┏━━━━━━━━━━━━━━━━━━━━━━━━━━━━━━━━━┳━━━━━━━━━━━━━━━━━━━━━━━━┳━━━━━━━━━━━━━━━┓\n┃\u001b[1m \u001b[0m\u001b[1mLayer (type)                   \u001b[0m\u001b[1m \u001b[0m┃\u001b[1m \u001b[0m\u001b[1mOutput Shape          \u001b[0m\u001b[1m \u001b[0m┃\u001b[1m \u001b[0m\u001b[1m      Param #\u001b[0m\u001b[1m \u001b[0m┃\n┡━━━━━━━━━━━━━━━━━━━━━━━━━━━━━━━━━╇━━━━━━━━━━━━━━━━━━━━━━━━╇━━━━━━━━━━━━━━━┩\n│ conv2d_10 (\u001b[38;5;33mConv2D\u001b[0m)              │ (\u001b[38;5;45mNone\u001b[0m, \u001b[38;5;34m98\u001b[0m, \u001b[38;5;34m98\u001b[0m, \u001b[38;5;34m64\u001b[0m)     │           \u001b[38;5;34m640\u001b[0m │\n├─────────────────────────────────┼────────────────────────┼───────────────┤\n│ max_pooling2d_10 (\u001b[38;5;33mMaxPooling2D\u001b[0m) │ (\u001b[38;5;45mNone\u001b[0m, \u001b[38;5;34m49\u001b[0m, \u001b[38;5;34m49\u001b[0m, \u001b[38;5;34m64\u001b[0m)     │             \u001b[38;5;34m0\u001b[0m │\n├─────────────────────────────────┼────────────────────────┼───────────────┤\n│ conv2d_11 (\u001b[38;5;33mConv2D\u001b[0m)              │ (\u001b[38;5;45mNone\u001b[0m, \u001b[38;5;34m47\u001b[0m, \u001b[38;5;34m47\u001b[0m, \u001b[38;5;34m64\u001b[0m)     │        \u001b[38;5;34m36,928\u001b[0m │\n├─────────────────────────────────┼────────────────────────┼───────────────┤\n│ max_pooling2d_11 (\u001b[38;5;33mMaxPooling2D\u001b[0m) │ (\u001b[38;5;45mNone\u001b[0m, \u001b[38;5;34m23\u001b[0m, \u001b[38;5;34m23\u001b[0m, \u001b[38;5;34m64\u001b[0m)     │             \u001b[38;5;34m0\u001b[0m │\n├─────────────────────────────────┼────────────────────────┼───────────────┤\n│ flatten_5 (\u001b[38;5;33mFlatten\u001b[0m)             │ (\u001b[38;5;45mNone\u001b[0m, \u001b[38;5;34m33856\u001b[0m)          │             \u001b[38;5;34m0\u001b[0m │\n├─────────────────────────────────┼────────────────────────┼───────────────┤\n│ dense_5 (\u001b[38;5;33mDense\u001b[0m)                 │ (\u001b[38;5;45mNone\u001b[0m, \u001b[38;5;34m1\u001b[0m)              │        \u001b[38;5;34m33,857\u001b[0m │\n└─────────────────────────────────┴────────────────────────┴───────────────┘\n",
            "text/html": "<pre style=\"white-space:pre;overflow-x:auto;line-height:normal;font-family:Menlo,'DejaVu Sans Mono',consolas,'Courier New',monospace\">┏━━━━━━━━━━━━━━━━━━━━━━━━━━━━━━━━━┳━━━━━━━━━━━━━━━━━━━━━━━━┳━━━━━━━━━━━━━━━┓\n┃<span style=\"font-weight: bold\"> Layer (type)                    </span>┃<span style=\"font-weight: bold\"> Output Shape           </span>┃<span style=\"font-weight: bold\">       Param # </span>┃\n┡━━━━━━━━━━━━━━━━━━━━━━━━━━━━━━━━━╇━━━━━━━━━━━━━━━━━━━━━━━━╇━━━━━━━━━━━━━━━┩\n│ conv2d_10 (<span style=\"color: #0087ff; text-decoration-color: #0087ff\">Conv2D</span>)              │ (<span style=\"color: #00d7ff; text-decoration-color: #00d7ff\">None</span>, <span style=\"color: #00af00; text-decoration-color: #00af00\">98</span>, <span style=\"color: #00af00; text-decoration-color: #00af00\">98</span>, <span style=\"color: #00af00; text-decoration-color: #00af00\">64</span>)     │           <span style=\"color: #00af00; text-decoration-color: #00af00\">640</span> │\n├─────────────────────────────────┼────────────────────────┼───────────────┤\n│ max_pooling2d_10 (<span style=\"color: #0087ff; text-decoration-color: #0087ff\">MaxPooling2D</span>) │ (<span style=\"color: #00d7ff; text-decoration-color: #00d7ff\">None</span>, <span style=\"color: #00af00; text-decoration-color: #00af00\">49</span>, <span style=\"color: #00af00; text-decoration-color: #00af00\">49</span>, <span style=\"color: #00af00; text-decoration-color: #00af00\">64</span>)     │             <span style=\"color: #00af00; text-decoration-color: #00af00\">0</span> │\n├─────────────────────────────────┼────────────────────────┼───────────────┤\n│ conv2d_11 (<span style=\"color: #0087ff; text-decoration-color: #0087ff\">Conv2D</span>)              │ (<span style=\"color: #00d7ff; text-decoration-color: #00d7ff\">None</span>, <span style=\"color: #00af00; text-decoration-color: #00af00\">47</span>, <span style=\"color: #00af00; text-decoration-color: #00af00\">47</span>, <span style=\"color: #00af00; text-decoration-color: #00af00\">64</span>)     │        <span style=\"color: #00af00; text-decoration-color: #00af00\">36,928</span> │\n├─────────────────────────────────┼────────────────────────┼───────────────┤\n│ max_pooling2d_11 (<span style=\"color: #0087ff; text-decoration-color: #0087ff\">MaxPooling2D</span>) │ (<span style=\"color: #00d7ff; text-decoration-color: #00d7ff\">None</span>, <span style=\"color: #00af00; text-decoration-color: #00af00\">23</span>, <span style=\"color: #00af00; text-decoration-color: #00af00\">23</span>, <span style=\"color: #00af00; text-decoration-color: #00af00\">64</span>)     │             <span style=\"color: #00af00; text-decoration-color: #00af00\">0</span> │\n├─────────────────────────────────┼────────────────────────┼───────────────┤\n│ flatten_5 (<span style=\"color: #0087ff; text-decoration-color: #0087ff\">Flatten</span>)             │ (<span style=\"color: #00d7ff; text-decoration-color: #00d7ff\">None</span>, <span style=\"color: #00af00; text-decoration-color: #00af00\">33856</span>)          │             <span style=\"color: #00af00; text-decoration-color: #00af00\">0</span> │\n├─────────────────────────────────┼────────────────────────┼───────────────┤\n│ dense_5 (<span style=\"color: #0087ff; text-decoration-color: #0087ff\">Dense</span>)                 │ (<span style=\"color: #00d7ff; text-decoration-color: #00d7ff\">None</span>, <span style=\"color: #00af00; text-decoration-color: #00af00\">1</span>)              │        <span style=\"color: #00af00; text-decoration-color: #00af00\">33,857</span> │\n└─────────────────────────────────┴────────────────────────┴───────────────┘\n</pre>\n"
          },
          "metadata": {}
        },
        {
          "output_type": "display_data",
          "data": {
            "text/plain": "\u001b[1m Total params: \u001b[0m\u001b[38;5;34m71,425\u001b[0m (279.00 KB)\n",
            "text/html": "<pre style=\"white-space:pre;overflow-x:auto;line-height:normal;font-family:Menlo,'DejaVu Sans Mono',consolas,'Courier New',monospace\"><span style=\"font-weight: bold\"> Total params: </span><span style=\"color: #00af00; text-decoration-color: #00af00\">71,425</span> (279.00 KB)\n</pre>\n"
          },
          "metadata": {}
        },
        {
          "output_type": "display_data",
          "data": {
            "text/plain": "\u001b[1m Trainable params: \u001b[0m\u001b[38;5;34m71,425\u001b[0m (279.00 KB)\n",
            "text/html": "<pre style=\"white-space:pre;overflow-x:auto;line-height:normal;font-family:Menlo,'DejaVu Sans Mono',consolas,'Courier New',monospace\"><span style=\"font-weight: bold\"> Trainable params: </span><span style=\"color: #00af00; text-decoration-color: #00af00\">71,425</span> (279.00 KB)\n</pre>\n"
          },
          "metadata": {}
        },
        {
          "output_type": "display_data",
          "data": {
            "text/plain": "\u001b[1m Non-trainable params: \u001b[0m\u001b[38;5;34m0\u001b[0m (0.00 B)\n",
            "text/html": "<pre style=\"white-space:pre;overflow-x:auto;line-height:normal;font-family:Menlo,'DejaVu Sans Mono',consolas,'Courier New',monospace\"><span style=\"font-weight: bold\"> Non-trainable params: </span><span style=\"color: #00af00; text-decoration-color: #00af00\">0</span> (0.00 B)\n</pre>\n"
          },
          "metadata": {}
        }
      ]
    },
    {
      "cell_type": "code",
      "source": [
        "# Fit the model\n",
        "model.fit(X_train, y_train, epochs=10)\n"
      ],
      "metadata": {
        "colab": {
          "base_uri": "https://localhost:8080/",
          "height": 1000
        },
        "id": "-OH-BDZtu_pC",
        "outputId": "5b87a63b-c0cb-4ac2-d989-471a8106165a",
        "execution": {
          "iopub.status.busy": "2024-03-23T16:40:50.536626Z",
          "iopub.execute_input": "2024-03-23T16:40:50.536905Z",
          "iopub.status.idle": "2024-03-23T16:41:58.811558Z",
          "shell.execute_reply.started": "2024-03-23T16:40:50.53687Z",
          "shell.execute_reply": "2024-03-23T16:41:58.81061Z"
        },
        "trusted": true
      },
      "execution_count": null,
      "outputs": [
        {
          "name": "stdout",
          "text": "Epoch 1/10\n\u001b[1m624/624\u001b[0m \u001b[32m━━━━━━━━━━━━━━━━━━━━\u001b[0m\u001b[37m\u001b[0m \u001b[1m9s\u001b[0m 11ms/step - accuracy: 0.5864 - loss: 0.6631\nEpoch 2/10\n\u001b[1m624/624\u001b[0m \u001b[32m━━━━━━━━━━━━━━━━━━━━\u001b[0m\u001b[37m\u001b[0m \u001b[1m6s\u001b[0m 10ms/step - accuracy: 0.7495 - loss: 0.5138\nEpoch 3/10\n\u001b[1m624/624\u001b[0m \u001b[32m━━━━━━━━━━━━━━━━━━━━\u001b[0m\u001b[37m\u001b[0m \u001b[1m6s\u001b[0m 10ms/step - accuracy: 0.7827 - loss: 0.4612\nEpoch 4/10\n\u001b[1m624/624\u001b[0m \u001b[32m━━━━━━━━━━━━━━━━━━━━\u001b[0m\u001b[37m\u001b[0m \u001b[1m6s\u001b[0m 10ms/step - accuracy: 0.8103 - loss: 0.4205\nEpoch 5/10\n\u001b[1m624/624\u001b[0m \u001b[32m━━━━━━━━━━━━━━━━━━━━\u001b[0m\u001b[37m\u001b[0m \u001b[1m6s\u001b[0m 10ms/step - accuracy: 0.8211 - loss: 0.3936\nEpoch 6/10\n\u001b[1m624/624\u001b[0m \u001b[32m━━━━━━━━━━━━━━━━━━━━\u001b[0m\u001b[37m\u001b[0m \u001b[1m6s\u001b[0m 10ms/step - accuracy: 0.8427 - loss: 0.3587\nEpoch 7/10\n\u001b[1m624/624\u001b[0m \u001b[32m━━━━━━━━━━━━━━━━━━━━\u001b[0m\u001b[37m\u001b[0m \u001b[1m6s\u001b[0m 10ms/step - accuracy: 0.8647 - loss: 0.3210\nEpoch 8/10\n\u001b[1m624/624\u001b[0m \u001b[32m━━━━━━━━━━━━━━━━━━━━\u001b[0m\u001b[37m\u001b[0m \u001b[1m6s\u001b[0m 10ms/step - accuracy: 0.8725 - loss: 0.3008\nEpoch 9/10\n\u001b[1m624/624\u001b[0m \u001b[32m━━━━━━━━━━━━━━━━━━━━\u001b[0m\u001b[37m\u001b[0m \u001b[1m6s\u001b[0m 10ms/step - accuracy: 0.8896 - loss: 0.2704\nEpoch 10/10\n\u001b[1m624/624\u001b[0m \u001b[32m━━━━━━━━━━━━━━━━━━━━\u001b[0m\u001b[37m\u001b[0m \u001b[1m6s\u001b[0m 10ms/step - accuracy: 0.8975 - loss: 0.2483\n",
          "output_type": "stream"
        },
        {
          "execution_count": 277,
          "output_type": "execute_result",
          "data": {
            "text/plain": "<keras.src.callbacks.history.History at 0x786f0a89bd60>"
          },
          "metadata": {}
        }
      ]
    },
    {
      "cell_type": "code",
      "source": [
        "\n",
        "# Evaluate the model\n",
        "model.evaluate(X_test, y_test)\n"
      ],
      "metadata": {
        "id": "SWkZVvxHvKM_",
        "execution": {
          "iopub.status.busy": "2024-03-23T16:41:58.813196Z",
          "iopub.execute_input": "2024-03-23T16:41:58.813472Z",
          "iopub.status.idle": "2024-03-23T16:42:00.492586Z",
          "shell.execute_reply.started": "2024-03-23T16:41:58.813447Z",
          "shell.execute_reply": "2024-03-23T16:42:00.491684Z"
        },
        "trusted": true,
        "outputId": "90198228-f722-4e2a-bb35-ca66c1d1aba1"
      },
      "execution_count": null,
      "outputs": [
        {
          "name": "stdout",
          "text": "\u001b[1m156/156\u001b[0m \u001b[32m━━━━━━━━━━━━━━━━━━━━\u001b[0m\u001b[37m\u001b[0m \u001b[1m1s\u001b[0m 5ms/step - accuracy: 0.7961 - loss: 0.4904\n",
          "output_type": "stream"
        },
        {
          "execution_count": 278,
          "output_type": "execute_result",
          "data": {
            "text/plain": "[0.4878939092159271, 0.7949488759040833]"
          },
          "metadata": {}
        }
      ]
    },
    {
      "cell_type": "code",
      "source": [],
      "metadata": {
        "id": "0HIllAS8sQB7"
      },
      "execution_count": null,
      "outputs": []
    },
    {
      "cell_type": "markdown",
      "source": [
        "# Make a prediction"
      ],
      "metadata": {
        "id": "2tlynlfWsQB8"
      }
    },
    {
      "cell_type": "code",
      "source": [
        "test.shape"
      ],
      "metadata": {
        "execution": {
          "iopub.status.busy": "2024-03-23T16:42:00.49385Z",
          "iopub.execute_input": "2024-03-23T16:42:00.494547Z",
          "iopub.status.idle": "2024-03-23T16:42:00.500675Z",
          "shell.execute_reply.started": "2024-03-23T16:42:00.494506Z",
          "shell.execute_reply": "2024-03-23T16:42:00.49981Z"
        },
        "trusted": true,
        "id": "zjL5l8fXsQB8",
        "outputId": "d789fa0a-40d4-45d3-f643-c04087df97da"
      },
      "execution_count": null,
      "outputs": [
        {
          "execution_count": 279,
          "output_type": "execute_result",
          "data": {
            "text/plain": "(1, 100, 100, 3)"
          },
          "metadata": {}
        }
      ]
    },
    {
      "cell_type": "code",
      "source": [
        "test[0].shape"
      ],
      "metadata": {
        "execution": {
          "iopub.status.busy": "2024-03-23T16:42:00.502804Z",
          "iopub.execute_input": "2024-03-23T16:42:00.503109Z",
          "iopub.status.idle": "2024-03-23T16:42:00.510922Z",
          "shell.execute_reply.started": "2024-03-23T16:42:00.503075Z",
          "shell.execute_reply": "2024-03-23T16:42:00.509922Z"
        },
        "trusted": true,
        "id": "SzaNBJIrsQB8",
        "outputId": "d00106d6-4f7b-487f-daee-2592db6bdc9c"
      },
      "execution_count": null,
      "outputs": [
        {
          "execution_count": 280,
          "output_type": "execute_result",
          "data": {
            "text/plain": "(100, 100, 3)"
          },
          "metadata": {}
        }
      ]
    },
    {
      "cell_type": "code",
      "source": [
        "print(np.max(test))\n",
        "print(np.min(test))\n",
        "print(np.max(test)-np.min(test))"
      ],
      "metadata": {
        "execution": {
          "iopub.status.busy": "2024-03-23T16:42:00.512078Z",
          "iopub.execute_input": "2024-03-23T16:42:00.512371Z",
          "iopub.status.idle": "2024-03-23T16:42:00.521594Z",
          "shell.execute_reply.started": "2024-03-23T16:42:00.512347Z",
          "shell.execute_reply": "2024-03-23T16:42:00.520713Z"
        },
        "trusted": true,
        "id": "p_zT8ld7sQB8",
        "outputId": "4c0125fe-9077-4c6e-c789-fd7a473bfb9c"
      },
      "execution_count": null,
      "outputs": [
        {
          "name": "stdout",
          "text": "138.22101\n-105.779\n244.0\n",
          "output_type": "stream"
        }
      ]
    },
    {
      "cell_type": "code",
      "source": [],
      "metadata": {
        "id": "ZExB6G3rsQB9"
      },
      "execution_count": null,
      "outputs": []
    },
    {
      "cell_type": "code",
      "source": [
        "import numpy as np\n",
        "\n",
        "def convert_to_grayscale(image):\n",
        "    \"\"\"\n",
        "    Convert a color image to grayscale.\n",
        "\n",
        "    Parameters:\n",
        "    - image: A NumPy array of shape (height, width, 3), representing an RGB image.\n",
        "\n",
        "    Returns:\n",
        "    - A NumPy array of shape (height, width, 1), representing a grayscale image.\n",
        "    \"\"\"\n",
        "#     # Check if the image is already in the expected shape\n",
        "#     if image.shape[-1] != 3:\n",
        "#         raise ValueError(\"Input image must have 3 channels.\")\n",
        "\n",
        "    # Apply the conversion formula\n",
        "    grayscale = 0.2989 * image[:,:, :, 0] + 0.5870 * image[:,:, :, 1] + 0.1140 * image[:,:, :, 2]\n",
        "\n",
        "    # Reshape the grayscale image to add an extra dimension\n",
        "    grayscale = grayscale[:, :,:, np.newaxis]\n",
        "\n",
        "    return grayscale\n",
        "\n",
        "# Assuming `image` is your (100, 100, 3) RGB image array\n",
        "# image = np.random.rand(100, 100, 3)  # Example placeholder; replace with your image array\n",
        "# grayscale_image = convert_to_grayscale(image)\n",
        "\n",
        "# Now `grayscale_image` will have the shape (100, 100, 1)\n"
      ],
      "metadata": {
        "execution": {
          "iopub.status.busy": "2024-03-23T16:42:00.522633Z",
          "iopub.execute_input": "2024-03-23T16:42:00.522911Z",
          "iopub.status.idle": "2024-03-23T16:42:00.530356Z",
          "shell.execute_reply.started": "2024-03-23T16:42:00.522869Z",
          "shell.execute_reply": "2024-03-23T16:42:00.529462Z"
        },
        "trusted": true,
        "id": "CnufQSybsQB9"
      },
      "execution_count": null,
      "outputs": []
    },
    {
      "cell_type": "code",
      "source": [
        "test_scaled = (test - test.min())/(test.max()-test.min())\n",
        "test_scaled.max()"
      ],
      "metadata": {
        "execution": {
          "iopub.status.busy": "2024-03-23T16:42:00.531345Z",
          "iopub.execute_input": "2024-03-23T16:42:00.531605Z",
          "iopub.status.idle": "2024-03-23T16:42:00.546554Z",
          "shell.execute_reply.started": "2024-03-23T16:42:00.531582Z",
          "shell.execute_reply": "2024-03-23T16:42:00.545744Z"
        },
        "trusted": true,
        "id": "qvBLALq-sQB9",
        "outputId": "0c826e9f-c646-4a71-8bac-3bee6785f87b"
      },
      "execution_count": null,
      "outputs": [
        {
          "execution_count": 283,
          "output_type": "execute_result",
          "data": {
            "text/plain": "1.0"
          },
          "metadata": {}
        }
      ]
    },
    {
      "cell_type": "code",
      "source": [
        "image = convert_to_grayscale(test_scaled)\n",
        "print(image.shape)\n",
        "print(np.min(image))\n",
        "print(np.max(image))"
      ],
      "metadata": {
        "execution": {
          "iopub.status.busy": "2024-03-23T16:42:00.547773Z",
          "iopub.execute_input": "2024-03-23T16:42:00.548195Z",
          "iopub.status.idle": "2024-03-23T16:42:00.55418Z",
          "shell.execute_reply.started": "2024-03-23T16:42:00.548164Z",
          "shell.execute_reply": "2024-03-23T16:42:00.55327Z"
        },
        "trusted": true,
        "id": "ovB4UbYlsQB9",
        "outputId": "7e02274a-432f-4eb9-87a7-69165eb4ef5a"
      },
      "execution_count": null,
      "outputs": [
        {
          "name": "stdout",
          "text": "(1, 100, 100, 1)\n0.008892463\n0.9879048\n",
          "output_type": "stream"
        }
      ]
    },
    {
      "cell_type": "code",
      "source": [
        "plt.imshow(image[0]\n",
        "           , cmap = plt.cm.gray_r)\n"
      ],
      "metadata": {
        "execution": {
          "iopub.status.busy": "2024-03-23T16:42:00.555314Z",
          "iopub.execute_input": "2024-03-23T16:42:00.555672Z",
          "iopub.status.idle": "2024-03-23T16:42:00.812606Z",
          "shell.execute_reply.started": "2024-03-23T16:42:00.555636Z",
          "shell.execute_reply": "2024-03-23T16:42:00.811593Z"
        },
        "trusted": true,
        "id": "aP5ABiaWsQB9",
        "outputId": "6bc4e8d1-f6ac-4253-f882-f6caf08ed4da"
      },
      "execution_count": null,
      "outputs": [
        {
          "execution_count": 285,
          "output_type": "execute_result",
          "data": {
            "text/plain": "<matplotlib.image.AxesImage at 0x786f0aaae050>"
          },
          "metadata": {}
        },
        {
          "output_type": "display_data",
          "data": {
            "text/plain": "<Figure size 640x480 with 1 Axes>",
            "image/png": "[encoded data removed]"
          },
          "metadata": {}
        }
      ]
    },
    {
      "cell_type": "code",
      "source": [
        "\n",
        "# Predict whether the image is a dog or a cat\n",
        "prediction = model.predict(image)\n",
        "\n",
        "# Print the prediction\n",
        "print(prediction)\n",
        "\n"
      ],
      "metadata": {
        "execution": {
          "iopub.status.busy": "2024-03-23T16:42:00.815915Z",
          "iopub.execute_input": "2024-03-23T16:42:00.816217Z",
          "iopub.status.idle": "2024-03-23T16:42:01.052462Z",
          "shell.execute_reply.started": "2024-03-23T16:42:00.816185Z",
          "shell.execute_reply": "2024-03-23T16:42:01.051424Z"
        },
        "trusted": true,
        "id": "T6HM7bawsQB-",
        "outputId": "2ac902b0-c8b3-4668-fd0c-559f6a417b35"
      },
      "execution_count": null,
      "outputs": [
        {
          "name": "stdout",
          "text": "\u001b[1m1/1\u001b[0m \u001b[32m━━━━━━━━━━━━━━━━━━━━\u001b[0m\u001b[37m\u001b[0m \u001b[1m0s\u001b[0m 187ms/step\n[[0.3084375]]\n",
          "output_type": "stream"
        }
      ]
    },
    {
      "cell_type": "markdown",
      "source": [
        "## Communication of Results\n"
      ],
      "metadata": {
        "id": "tT_-Jy7ZIJ3t"
      }
    },
    {
      "cell_type": "markdown",
      "source": [
        "\n",
        "* Communicate the results of your analysis.\n",
        "\n"
      ],
      "metadata": {
        "id": "MzKXfsuvXX7T"
      }
    },
    {
      "cell_type": "markdown",
      "source": [
        "## **BONUS** (optional)\n"
      ],
      "metadata": {
        "id": "ztu8gpNSILmj"
      }
    },
    {
      "cell_type": "markdown",
      "source": [
        "\n",
        "* Upload an image of your (or your friend's or family's) dog or cat and use your model to predict whether the image is a dog or cat.\n",
        "* Hint: you'll probably need to convert the image from color to grayscale.  OpenCV, pillow, and other libraries are your friend."
      ],
      "metadata": {
        "id": "DjGDKT60XY-G"
      }
    },
    {
      "cell_type": "code",
      "source": [
        "def image_predictor(link, rotation = 0):\n",
        "    link_nova= link\n",
        "\n",
        "    # Step 1: Fetch the image from the URL\n",
        "    response_nova = requests.get(link_nova)\n",
        "\n",
        "    # Step 2: Open the image with PIL\n",
        "    img_nova = Image.open(BytesIO(response_nova.content))\n",
        "\n",
        "    img_nova = img_nova.resize((100, 100))\n",
        "\n",
        "    img_nova = img_nova.rotate(rotation)\n",
        "\n",
        "    # Convert the image to a NumPy array\n",
        "    img_array_nova = img_to_array(img_nova)\n",
        "\n",
        "    # Normalize the pixel values (adjust this according to your model's needs)\n",
        "    # img_array_nova = preprocess_input(img_array_nova)\n",
        "\n",
        "    img_array_nova = (img_array_nova - img_array_nova.min())/(img_array_nova.max()-img_array_nova.min())\n",
        "\n",
        "    # Expand dimensions to match the model's expected input shape\n",
        "    test_nova = np.expand_dims(img_array_nova, axis=0)\n",
        "\n",
        "    plt.imshow(test_nova[0]\n",
        "           , cmap = plt.cm.gray_r )\n",
        "\n",
        "    plt.show()\n",
        "    # Now 'img_array' is ready to be used as input to your model.\n",
        "    image_nova = convert_to_grayscale(test_nova)\n",
        "\n",
        "    plt.imshow(image_nova[0]\n",
        "           , cmap = plt.cm.gray_r)\n",
        "    plt.show()\n",
        "\n",
        "    # Predict whether the image is a dog or a cat\n",
        "    output = model.predict(image_nova)\n",
        "\n",
        "    # Threshold for deciding between categories\n",
        "    threshold = 0.5\n",
        "\n",
        "    # Determine the predicted class and its confidence\n",
        "    predicted_class = \"cat\" if output >= threshold else \"dog\"\n",
        "    confidence = output if predicted_class == \"cat\" else 1 - output\n",
        "\n",
        "    # Formatting the output\n",
        "    formatted_output = f\"Predicted class: {predicted_class} with confidence: {confidence[0][0]*100:.2f}%\"\n",
        "\n",
        "    print(formatted_output)"
      ],
      "metadata": {
        "colab": {
          "background_save": true
        },
        "id": "zOMNJ9ZyHWTD",
        "execution": {
          "iopub.status.busy": "2024-03-23T19:00:36.850584Z",
          "iopub.execute_input": "2024-03-23T19:00:36.851333Z",
          "iopub.status.idle": "2024-03-23T19:00:36.860641Z",
          "shell.execute_reply.started": "2024-03-23T19:00:36.851298Z",
          "shell.execute_reply": "2024-03-23T19:00:36.859552Z"
        },
        "trusted": true
      },
      "execution_count": null,
      "outputs": []
    },
    {
      "cell_type": "code",
      "source": [
        "link_nova= 'https://picklejar.nyc3.digitaloceanspaces.com/Images/Nova_fluff.JPEG'"
      ],
      "metadata": {
        "execution": {
          "iopub.status.busy": "2024-03-23T19:00:37.764133Z",
          "iopub.execute_input": "2024-03-23T19:00:37.764817Z",
          "iopub.status.idle": "2024-03-23T19:00:37.768947Z",
          "shell.execute_reply.started": "2024-03-23T19:00:37.764779Z",
          "shell.execute_reply": "2024-03-23T19:00:37.767947Z"
        },
        "trusted": true,
        "id": "IMcAbtTbsQB_"
      },
      "execution_count": null,
      "outputs": []
    },
    {
      "cell_type": "code",
      "source": [
        "image_predictor(link_nova,270)"
      ],
      "metadata": {
        "execution": {
          "iopub.status.busy": "2024-03-23T19:00:38.253516Z",
          "iopub.execute_input": "2024-03-23T19:00:38.254182Z",
          "iopub.status.idle": "2024-03-23T19:00:39.285173Z",
          "shell.execute_reply.started": "2024-03-23T19:00:38.254148Z",
          "shell.execute_reply": "2024-03-23T19:00:39.2843Z"
        },
        "trusted": true,
        "id": "MhSeBsTasQB_",
        "outputId": "36e2f836-ce07-4b80-c733-9ac1096ed4fc"
      },
      "execution_count": null,
      "outputs": [
        {
          "output_type": "display_data",
          "data": {
            "text/plain": "<Figure size 640x480 with 1 Axes>",
            "image/png": "[encoded data removed]"
          },
          "metadata": {}
        },
        {
          "output_type": "display_data",
          "data": {
            "text/plain": "<Figure size 640x480 with 1 Axes>",
            "image/png": "[encoded data removed]"
          },
          "metadata": {}
        },
        {
          "name": "stdout",
          "text": "\u001b[1m1/1\u001b[0m \u001b[32m━━━━━━━━━━━━━━━━━━━━\u001b[0m\u001b[37m\u001b[0m \u001b[1m0s\u001b[0m 19ms/step\nPredicted class: dog with confidence: 67.29%\n",
          "output_type": "stream"
        }
      ]
    },
    {
      "cell_type": "code",
      "source": [
        "picklejar_link_1 = 'https://picklejar.nyc3.digitaloceanspaces.com/Images/B77DFC1B-F014-45B0-974F-BF9A0D8C739E_1_102_o.jpeg'\n",
        "picklejar_link_2 = 'https://picklejar.nyc3.digitaloceanspaces.com/Images/8FD6B9B0-4297-4D61-884E-2D94F6DC1FDF_1_105_c.jpeg'\n",
        "picklejar_link_3 = 'https://picklejar.nyc3.digitaloceanspaces.com/Images/8B9D11F4-8AD2-4C43-95AC-8504FEEB7670.jpeg'\n",
        "picklejar_link_4 = 'https://picklejar.nyc3.digitaloceanspaces.com/Images/10AE30A6-E631-4975-9745-6027FDEBB0DA_4_5005_c.jpeg'"
      ],
      "metadata": {
        "execution": {
          "iopub.status.busy": "2024-03-23T16:51:50.995128Z",
          "iopub.execute_input": "2024-03-23T16:51:50.995466Z",
          "iopub.status.idle": "2024-03-23T16:51:51.000076Z",
          "shell.execute_reply.started": "2024-03-23T16:51:50.995439Z",
          "shell.execute_reply": "2024-03-23T16:51:50.999164Z"
        },
        "trusted": true,
        "id": "1KVtHbiTsQB_"
      },
      "execution_count": null,
      "outputs": []
    },
    {
      "cell_type": "code",
      "source": [
        "image_predictor(picklejar_link_1)"
      ],
      "metadata": {
        "trusted": true,
        "id": "V5IYmu08sQCA"
      },
      "execution_count": null,
      "outputs": []
    },
    {
      "cell_type": "code",
      "source": [
        "image_predictor(picklejar_link_2)"
      ],
      "metadata": {
        "execution": {
          "iopub.status.busy": "2024-03-23T16:51:52.112226Z",
          "iopub.execute_input": "2024-03-23T16:51:52.112496Z",
          "iopub.status.idle": "2024-03-23T16:51:52.646815Z",
          "shell.execute_reply.started": "2024-03-23T16:51:52.112472Z",
          "shell.execute_reply": "2024-03-23T16:51:52.645878Z"
        },
        "trusted": true,
        "id": "VOsir6rVsQCA",
        "outputId": "576d4f91-4667-4b36-e2b6-14ac10fbfaab"
      },
      "execution_count": null,
      "outputs": [
        {
          "name": "stdout",
          "text": "\u001b[1m1/1\u001b[0m \u001b[32m━━━━━━━━━━━━━━━━━━━━\u001b[0m\u001b[37m\u001b[0m \u001b[1m0s\u001b[0m 17ms/step\nPredicted class: cat with confidence: 92.64%\n",
          "output_type": "stream"
        },
        {
          "output_type": "display_data",
          "data": {
            "text/plain": "<Figure size 640x480 with 1 Axes>",
            "image/png": "[encoded data removed]"
          },
          "metadata": {}
        }
      ]
    },
    {
      "cell_type": "code",
      "source": [
        "image_predictor(picklejar_link_3)"
      ],
      "metadata": {
        "execution": {
          "iopub.status.busy": "2024-03-23T16:51:53.756555Z",
          "iopub.execute_input": "2024-03-23T16:51:53.757045Z",
          "iopub.status.idle": "2024-03-23T16:51:54.260245Z",
          "shell.execute_reply.started": "2024-03-23T16:51:53.75701Z",
          "shell.execute_reply": "2024-03-23T16:51:54.259243Z"
        },
        "trusted": true,
        "id": "GpPi-SD_sQCA",
        "outputId": "34fead5c-26bf-48e8-b2a9-c258ea13ef26"
      },
      "execution_count": null,
      "outputs": [
        {
          "name": "stdout",
          "text": "\u001b[1m1/1\u001b[0m \u001b[32m━━━━━━━━━━━━━━━━━━━━\u001b[0m\u001b[37m\u001b[0m \u001b[1m0s\u001b[0m 18ms/step\nPredicted class: dog with confidence: 93.45%\n",
          "output_type": "stream"
        },
        {
          "output_type": "display_data",
          "data": {
            "text/plain": "<Figure size 640x480 with 1 Axes>",
            "image/png": "[encoded data removed]"
          },
          "metadata": {}
        }
      ]
    },
    {
      "cell_type": "code",
      "source": [
        "image_predictor(picklejar_link_4)"
      ],
      "metadata": {
        "execution": {
          "iopub.status.busy": "2024-03-23T16:51:55.241474Z",
          "iopub.execute_input": "2024-03-23T16:51:55.241816Z",
          "iopub.status.idle": "2024-03-23T16:51:55.706446Z",
          "shell.execute_reply.started": "2024-03-23T16:51:55.241789Z",
          "shell.execute_reply": "2024-03-23T16:51:55.705463Z"
        },
        "trusted": true,
        "id": "kaWUG15RsQCA",
        "outputId": "bf763249-a3d4-4554-e95e-13e42af5fa91"
      },
      "execution_count": null,
      "outputs": [
        {
          "name": "stdout",
          "text": "\u001b[1m1/1\u001b[0m \u001b[32m━━━━━━━━━━━━━━━━━━━━\u001b[0m\u001b[37m\u001b[0m \u001b[1m0s\u001b[0m 18ms/step\nPredicted class: cat with confidence: 92.64%\n",
          "output_type": "stream"
        },
        {
          "output_type": "display_data",
          "data": {
            "text/plain": "<Figure size 640x480 with 1 Axes>",
            "image/png": "[encoded data removed]"
          },
          "metadata": {}
        }
      ]
    }
  ]
}